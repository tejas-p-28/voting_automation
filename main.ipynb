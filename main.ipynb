{
 "cells": [
  {
   "cell_type": "code",
   "execution_count": 7,
   "id": "fda83feb-a170-46b4-8e5b-f5ed865495c3",
   "metadata": {},
   "outputs": [
    {
     "name": "stdout",
     "output_type": "stream",
     "text": [
      "logged in as admin\n"
     ]
    }
   ],
   "source": [
    "from modules.admin import admin \n"
   ]
  },
  {
   "cell_type": "code",
   "execution_count": 36,
   "id": "8bdaf588-d370-4336-bd0c-cbd599e7f0cc",
   "metadata": {},
   "outputs": [],
   "source": [
    "#config\n",
    "commission_name = 'Maharashtra Legislative Assembly Election 2024'\n",
    "conducted = 'Conducted by State Election Commission'\n",
    "width = 170\n"
   ]
  },
  {
   "cell_type": "code",
   "execution_count": 37,
   "id": "90cb2951-cf7c-4511-9cbc-0b0bc2441afc",
   "metadata": {},
   "outputs": [],
   "source": [
    "#global\n",
    "global election_db\n",
    "max_retry = 3"
   ]
  },
  {
   "cell_type": "code",
   "execution_count": 67,
   "id": "3a9e03a7-22b9-4d15-801e-31918a81a6f8",
   "metadata": {},
   "outputs": [
    {
     "name": "stdout",
     "output_type": "stream",
     "text": [
      "-------------------------------------------------------------------------------------------------------------------------------------------------------------------------- \n",
      "                                                               Maharashtra Legislative Assembly Election 2024                                                               \n",
      "                                                                   Conducted by State Election Commission                                                                   \n",
      "--------------------------------------------------------------------------------------------------------------------------------------------------------------------------\n"
     ]
    }
   ],
   "source": [
    "#logic\n",
    "def header(mesg = None):\n",
    "    head = '-' * width\n",
    "    print(f'{head} \\n {commission_name.center(width)} \\n {conducted.center(width)} ')\n",
    "    if mesg:\n",
    "        print(mesg.center(width))\n",
    "    print(head)\n",
    "header()\n",
    "\n",
    "def first_screeen():\n",
    "    choice = ['Admin','Voter','Exit']\n",
    "    for i,j in enumerate(choice,1):\n",
    "        print(f'{i}. {j}')\n",
    "\n",
    "def user_input(ch,max_exp_input):\n",
    "    for i in range(max_retry):\n",
    "        ch = int(input('enter your choice : '))\n",
    "        if ch in range(max_exp_input+1):\n",
    "            return \n",
    "        return(ch,3)"
   ]
  },
  {
   "cell_type": "code",
   "execution_count": null,
   "id": "e5c76bdf-e1e4-46e7-9059-f2e66227e619",
   "metadata": {},
   "outputs": [],
   "source": []
  },
  {
   "cell_type": "code",
   "execution_count": 68,
   "id": "0f748ae8-0a7c-4746-83c0-b2e827a4e763",
   "metadata": {},
   "outputs": [],
   "source": [
    "#execute\n",
    "def main():\n",
    "    user_input()\n"
   ]
  },
  {
   "cell_type": "code",
   "execution_count": 70,
   "id": "507615c1-8f61-4708-97ef-42222f48220e",
   "metadata": {},
   "outputs": [
    {
     "ename": "TypeError",
     "evalue": "user_input() missing 2 required positional arguments: 'ch' and 'max_exp_input'",
     "output_type": "error",
     "traceback": [
      "\u001b[1;31m---------------------------------------------------------------------------\u001b[0m",
      "\u001b[1;31mTypeError\u001b[0m                                 Traceback (most recent call last)",
      "Cell \u001b[1;32mIn[70], line 1\u001b[0m\n\u001b[1;32m----> 1\u001b[0m \u001b[43mmain\u001b[49m\u001b[43m(\u001b[49m\u001b[43m)\u001b[49m\n",
      "Cell \u001b[1;32mIn[68], line 3\u001b[0m, in \u001b[0;36mmain\u001b[1;34m()\u001b[0m\n\u001b[0;32m      2\u001b[0m \u001b[38;5;28;01mdef\u001b[39;00m \u001b[38;5;21mmain\u001b[39m():\n\u001b[1;32m----> 3\u001b[0m     \u001b[43muser_input\u001b[49m\u001b[43m(\u001b[49m\u001b[43m)\u001b[49m\n",
      "\u001b[1;31mTypeError\u001b[0m: user_input() missing 2 required positional arguments: 'ch' and 'max_exp_input'"
     ]
    }
   ],
   "source": [
    "main()"
   ]
  },
  {
   "cell_type": "code",
   "execution_count": null,
   "id": "ef2ae0e9-ddf9-47a4-b9fc-ea5667801718",
   "metadata": {},
   "outputs": [],
   "source": []
  }
 ],
 "metadata": {
  "kernelspec": {
   "display_name": "Python 3 (ipykernel)",
   "language": "python",
   "name": "python3"
  },
  "language_info": {
   "codemirror_mode": {
    "name": "ipython",
    "version": 3
   },
   "file_extension": ".py",
   "mimetype": "text/x-python",
   "name": "python",
   "nbconvert_exporter": "python",
   "pygments_lexer": "ipython3",
   "version": "3.12.2"
  }
 },
 "nbformat": 4,
 "nbformat_minor": 5
}
