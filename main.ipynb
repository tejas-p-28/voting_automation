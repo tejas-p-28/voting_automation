{
 "cells": [
  {
   "cell_type": "code",
   "execution_count": 1,
   "id": "fda83feb-a170-46b4-8e5b-f5ed865495c3",
   "metadata": {},
   "outputs": [],
   "source": [
    "from modules.admin import election_admin as ed\n",
    "from modules.header import head\n",
    "from modules.first_screen import screen\n",
    "from modules.u_input import u_input\n",
    "# from db.admin_db import admin_data as ad\n",
    "import sqlite3"
   ]
  },
  {
   "cell_type": "code",
   "execution_count": 2,
   "id": "0f748ae8-0a7c-4746-83c0-b2e827a4e763",
   "metadata": {},
   "outputs": [],
   "source": [
    "#execute\n",
    "def main():\n",
    "    head.header()\n",
    "    screen.first_screen()\n",
    "    while True:\n",
    "        u_name = input('enter your name : ')\n",
    "        pswd = int(input('enter your password : '))\n",
    "        ch = ed.verify_cred(u_name,pswd)\n",
    "        if ch == 1:\n",
    "            ed.verify_cred()\n",
    "        elif ch == 2:\n",
    "            pass\n",
    "        elif ch == 3:\n",
    "            return 'Thank you !!!'\n"
   ]
  },
  {
   "cell_type": "code",
   "execution_count": 3,
   "id": "507615c1-8f61-4708-97ef-42222f48220e",
   "metadata": {},
   "outputs": [
    {
     "name": "stdout",
     "output_type": "stream",
     "text": [
      "------------------------------------------------------------------------------------------------------------------------------------------------------ \n",
      "                                                     Maharashtra Legislative Assembly Election 2024                                                     \n",
      "                                                         Conducted by State Election Commission                                                         \n",
      "------------------------------------------------------------------------------------------------------------------------------------------------------\n",
      "1. Admin\n",
      "2. Voter\n",
      "3. Exit\n"
     ]
    },
    {
     "name": "stdin",
     "output_type": "stream",
     "text": [
      "enter your choice :  1\n",
      "enter your name :  tejas\n",
      "enter your password :  123\n"
     ]
    },
    {
     "name": "stdout",
     "output_type": "stream",
     "text": [
      "------------------------------------------------------------------------------------------------------------------------------------------------------ \n",
      "                                                     Maharashtra Legislative Assembly Election 2024                                                     \n",
      "                                                         Conducted by State Election Commission                                                         \n",
      "------------------------------------------------------------------------------------------------------------------------------------------------------\n",
      "Welcome !!! You are admin tejas\n",
      "1) Conduct Election\n",
      "2) Add Voter\n",
      "3) Update Voter\n",
      "4) Log Out\n",
      "hie\n"
     ]
    },
    {
     "name": "stdin",
     "output_type": "stream",
     "text": [
      "enter your choice :  1\n"
     ]
    },
    {
     "name": "stdout",
     "output_type": "stream",
     "text": [
      "------------------------------------------------------------------------------------------------------------------------------------------------------ \n",
      "                                                     Maharashtra Legislative Assembly Election 2024                                                     \n",
      "                                                         Conducted by State Election Commission                                                         \n",
      "                                                                 Welcome, Admin tejas                                                                 \n",
      "------------------------------------------------------------------------------------------------------------------------------------------------------\n"
     ]
    },
    {
     "name": "stdin",
     "output_type": "stream",
     "text": [
      "enter the constituency name :  Pune\n"
     ]
    },
    {
     "ename": "TypeError",
     "evalue": "'NoneType' object is not iterable",
     "output_type": "error",
     "traceback": [
      "\u001b[1;31m---------------------------------------------------------------------------\u001b[0m",
      "\u001b[1;31mTypeError\u001b[0m                                 Traceback (most recent call last)",
      "Cell \u001b[1;32mIn[3], line 1\u001b[0m\n\u001b[1;32m----> 1\u001b[0m \u001b[43mmain\u001b[49m\u001b[43m(\u001b[49m\u001b[43m)\u001b[49m\n",
      "Cell \u001b[1;32mIn[2], line 8\u001b[0m, in \u001b[0;36mmain\u001b[1;34m()\u001b[0m\n\u001b[0;32m      6\u001b[0m u_name \u001b[38;5;241m=\u001b[39m \u001b[38;5;28minput\u001b[39m(\u001b[38;5;124m'\u001b[39m\u001b[38;5;124menter your name : \u001b[39m\u001b[38;5;124m'\u001b[39m)\n\u001b[0;32m      7\u001b[0m pswd \u001b[38;5;241m=\u001b[39m \u001b[38;5;28mint\u001b[39m(\u001b[38;5;28minput\u001b[39m(\u001b[38;5;124m'\u001b[39m\u001b[38;5;124menter your password : \u001b[39m\u001b[38;5;124m'\u001b[39m))\n\u001b[1;32m----> 8\u001b[0m ch \u001b[38;5;241m=\u001b[39m \u001b[43med\u001b[49m\u001b[38;5;241;43m.\u001b[39;49m\u001b[43mverify_cred\u001b[49m\u001b[43m(\u001b[49m\u001b[43mu_name\u001b[49m\u001b[43m,\u001b[49m\u001b[43mpswd\u001b[49m\u001b[43m)\u001b[49m\n\u001b[0;32m      9\u001b[0m \u001b[38;5;28;01mif\u001b[39;00m ch \u001b[38;5;241m==\u001b[39m \u001b[38;5;241m1\u001b[39m:\n\u001b[0;32m     10\u001b[0m     ed\u001b[38;5;241m.\u001b[39mverify_cred()\n",
      "File \u001b[1;32mE:\\Ethans Project\\voting_system\\modules\\admin\\election_admin.py:26\u001b[0m, in \u001b[0;36mverify_cred\u001b[1;34m(u_name, u_pswd)\u001b[0m\n\u001b[0;32m     24\u001b[0m ch \u001b[38;5;241m=\u001b[39m \u001b[38;5;28mint\u001b[39m(\u001b[38;5;28minput\u001b[39m(\u001b[38;5;124m'\u001b[39m\u001b[38;5;124menter your choice : \u001b[39m\u001b[38;5;124m'\u001b[39m))\n\u001b[0;32m     25\u001b[0m \u001b[38;5;28;01mif\u001b[39;00m ch \u001b[38;5;241m==\u001b[39m \u001b[38;5;241m1\u001b[39m:\n\u001b[1;32m---> 26\u001b[0m     \u001b[43mconduct_election\u001b[49m\u001b[43m(\u001b[49m\u001b[43mu_name\u001b[49m\u001b[43m)\u001b[49m\n\u001b[0;32m     27\u001b[0m \u001b[38;5;28;01melif\u001b[39;00m ch \u001b[38;5;241m==\u001b[39m \u001b[38;5;241m2\u001b[39m :\n\u001b[0;32m     28\u001b[0m     add_voter()\n",
      "File \u001b[1;32mE:\\Ethans Project\\voting_system\\modules\\admin\\election_admin.py:50\u001b[0m, in \u001b[0;36mconduct_election\u001b[1;34m(u_name)\u001b[0m\n\u001b[0;32m     48\u001b[0m db_cursor\u001b[38;5;241m.\u001b[39mexecute(const)\n\u001b[0;32m     49\u001b[0m result \u001b[38;5;241m=\u001b[39m  db_cursor\u001b[38;5;241m.\u001b[39mfetchone()\n\u001b[1;32m---> 50\u001b[0m \u001b[43m\u001b[49m\u001b[38;5;28;43;01mfor\u001b[39;49;00m\u001b[43m \u001b[49m\u001b[43mi\u001b[49m\u001b[43m \u001b[49m\u001b[38;5;129;43;01min\u001b[39;49;00m\u001b[43m \u001b[49m\u001b[43mresult\u001b[49m\u001b[43m:\u001b[49m\n\u001b[0;32m     51\u001b[0m \u001b[43m    \u001b[49m\u001b[38;5;28;43mprint\u001b[39;49m\u001b[43m(\u001b[49m\u001b[38;5;124;43m'\u001b[39;49m\u001b[38;5;124;43mconstituency already exists\u001b[39;49m\u001b[38;5;124;43m'\u001b[39;49m\u001b[43m)\u001b[49m\n\u001b[0;32m     52\u001b[0m \u001b[43m\u001b[49m\u001b[38;5;28;43;01melse\u001b[39;49;00m\u001b[43m:\u001b[49m\n",
      "\u001b[1;31mTypeError\u001b[0m: 'NoneType' object is not iterable"
     ]
    }
   ],
   "source": [
    "main()"
   ]
  },
  {
   "cell_type": "markdown",
   "id": "f0c987d8-b5e9-415b-b595-815e574c5f71",
   "metadata": {},
   "source": [
    "# "
   ]
  }
 ],
 "metadata": {
  "kernelspec": {
   "display_name": "Python 3 (ipykernel)",
   "language": "python",
   "name": "python3"
  },
  "language_info": {
   "codemirror_mode": {
    "name": "ipython",
    "version": 3
   },
   "file_extension": ".py",
   "mimetype": "text/x-python",
   "name": "python",
   "nbconvert_exporter": "python",
   "pygments_lexer": "ipython3",
   "version": "3.12.2"
  }
 },
 "nbformat": 4,
 "nbformat_minor": 5
}
