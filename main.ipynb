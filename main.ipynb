{
 "cells": [
  {
   "cell_type": "code",
   "execution_count": 1,
   "id": "fda83feb-a170-46b4-8e5b-f5ed865495c3",
   "metadata": {},
   "outputs": [],
   "source": [
    "from modules.admin import election_admin as ed\n",
    "from modules.header import head\n",
    "from modules.first_screen import screen\n",
    "from modules.u_input import u_input\n",
    "from datetime import datetime\n",
    "# from db.admin_db import admin_data as ad\n",
    "import sqlite3"
   ]
  },
  {
   "cell_type": "code",
   "execution_count": 2,
   "id": "0f748ae8-0a7c-4746-83c0-b2e827a4e763",
   "metadata": {},
   "outputs": [],
   "source": [
    "#execute\n",
    "def main():\n",
    "    head.header()\n",
    "    screen.first_screen()\n",
    "    while True:\n",
    "        u_name = input('enter your name : ')\n",
    "        pswd = int(input('enter your password : '))\n",
    "        ch = ed.verify_cred(u_name,pswd)\n",
    "        if ch == 1:\n",
    "            ed.verify_cred()\n",
    "        elif ch == 2:\n",
    "            pass\n",
    "        elif ch == 3:\n",
    "            return 'Thank you !!!'\n"
   ]
  },
  {
   "cell_type": "code",
   "execution_count": null,
   "id": "507615c1-8f61-4708-97ef-42222f48220e",
   "metadata": {},
   "outputs": [
    {
     "name": "stdout",
     "output_type": "stream",
     "text": [
      "------------------------------------------------------------------------------------------------------------------------------------------------------ \n",
      "                                                     Maharashtra Legislative Assembly Election 2024                                                     \n",
      "                                                         Conducted by State Election Commission                                                         \n",
      "------------------------------------------------------------------------------------------------------------------------------------------------------\n",
      "1. Admin\n",
      "2. Voter\n",
      "3. Exit\n"
     ]
    },
    {
     "name": "stdin",
     "output_type": "stream",
     "text": [
      "enter your choice :  1\n",
      "enter your name :  tejas\n",
      "enter your password :  123\n"
     ]
    },
    {
     "name": "stdout",
     "output_type": "stream",
     "text": [
      "------------------------------------------------------------------------------------------------------------------------------------------------------ \n",
      "                                                     Maharashtra Legislative Assembly Election 2024                                                     \n",
      "                                                         Conducted by State Election Commission                                                         \n",
      "------------------------------------------------------------------------------------------------------------------------------------------------------\n",
      "Welcome !!! You are admin tejas\n",
      "1) Conduct Election\n",
      "2) Add Voter\n",
      "3) Update Voter\n",
      "4) Log Out\n",
      "hie\n"
     ]
    },
    {
     "name": "stdin",
     "output_type": "stream",
     "text": [
      "enter your choice :  2\n"
     ]
    },
    {
     "name": "stdout",
     "output_type": "stream",
     "text": [
      "Enter voter's details : \n"
     ]
    },
    {
     "name": "stdin",
     "output_type": "stream",
     "text": [
      "Full Name :  Tejas Patil\n"
     ]
    },
    {
     "name": "stdout",
     "output_type": "stream",
     "text": [
      "Name Stored\n"
     ]
    }
   ],
   "source": [
    "main()"
   ]
  },
  {
   "cell_type": "markdown",
   "id": "f0c987d8-b5e9-415b-b595-815e574c5f71",
   "metadata": {},
   "source": [
    "# "
   ]
  }
 ],
 "metadata": {
  "kernelspec": {
   "display_name": "Python 3 (ipykernel)",
   "language": "python",
   "name": "python3"
  },
  "language_info": {
   "codemirror_mode": {
    "name": "ipython",
    "version": 3
   },
   "file_extension": ".py",
   "mimetype": "text/x-python",
   "name": "python",
   "nbconvert_exporter": "python",
   "pygments_lexer": "ipython3",
   "version": "3.12.2"
  }
 },
 "nbformat": 4,
 "nbformat_minor": 5
}
