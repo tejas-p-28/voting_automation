{
 "cells": [
  {
   "cell_type": "code",
   "execution_count": 7,
   "id": "fda83feb-a170-46b4-8e5b-f5ed865495c3",
   "metadata": {},
   "outputs": [
    {
     "name": "stdout",
     "output_type": "stream",
     "text": [
      "logged in as admin\n"
     ]
    }
   ],
   "source": [
    "from modules.admin import admin \n",
    "admin.verify_cred()"
   ]
  },
  {
   "cell_type": "code",
   "execution_count": null,
   "id": "8bdaf588-d370-4336-bd0c-cbd599e7f0cc",
   "metadata": {},
   "outputs": [],
   "source": []
  }
 ],
 "metadata": {
  "kernelspec": {
   "display_name": "Python 3 (ipykernel)",
   "language": "python",
   "name": "python3"
  },
  "language_info": {
   "codemirror_mode": {
    "name": "ipython",
    "version": 3
   },
   "file_extension": ".py",
   "mimetype": "text/x-python",
   "name": "python",
   "nbconvert_exporter": "python",
   "pygments_lexer": "ipython3",
   "version": "3.12.2"
  }
 },
 "nbformat": 4,
 "nbformat_minor": 5
}
