{
 "cells": [
  {
   "cell_type": "code",
   "execution_count": 1,
   "id": "fbd1a88a-5077-44c5-bae6-9d6688c0bbc8",
   "metadata": {},
   "outputs": [
    {
     "name": "stdout",
     "output_type": "stream",
     "text": [
      "(2, 'tejas', 1234.0)\n",
      "(4, 'tejas', 1234.0)\n"
     ]
    }
   ],
   "source": [
    "import sqlite3\n",
    "def sqlI():\n",
    "    print('this is sql')\n",
    "# dbc_in_file = sqlite3.connect('election_db')\n",
    "# db_cursor = dbc_in_file.cursor()\n",
    "# db_cursor.execute('''create table if not exists admin_db\n",
    "#     (id int primary key,\n",
    "#     name varchar(50),\n",
    "#     pswd real);''')\n",
    "\n",
    "# admin_id = 4\n",
    "# name = 'tejas'\n",
    "# pswd = 1234\n",
    "\n",
    "# query = f\"\"\" insert into admin_db (id,name,pswd) values({admin_id},'{name}',{pswd})\"\"\"\n",
    "# db_cursor.execute(query)\n",
    "# dbc_in_file.commit()\n",
    "# db_cursor.execute('select * from admin_db')\n",
    "# rows = db_cursor.fetchall()\n",
    "# for i in rows:\n",
    "#     print(i)\n",
    "\n",
    "# dbc_in_file.close()"
   ]
  },
  {
   "cell_type": "code",
   "execution_count": 7,
   "id": "912f807c-921a-46b7-ac1a-7674feb016cb",
   "metadata": {},
   "outputs": [],
   "source": [
    "admin_id = 2\n",
    "name = 'tejas'\n",
    "pswd = 1234\n",
    "\n",
    "query = f\"\"\" insert into admin_db (id,name,pswd) values({admin_id},'{name}',{pswd})\"\"\"\n",
    "db_cursor.execute(query)\n",
    "dbc_in_file.commit()\n",
    "db_cursor.execute('drop table admin_db')\n",
    "rows = db_cursor.fetchall()\n",
    "for i in rows:\n",
    "    print(i)\n",
    "\n"
   ]
  },
  {
   "cell_type": "code",
   "execution_count": null,
   "id": "2270ab81-cd2f-4362-aa29-90da0a46ef36",
   "metadata": {},
   "outputs": [],
   "source": []
  }
 ],
 "metadata": {
  "kernelspec": {
   "display_name": "Python 3 (ipykernel)",
   "language": "python",
   "name": "python3"
  },
  "language_info": {
   "codemirror_mode": {
    "name": "ipython",
    "version": 3
   },
   "file_extension": ".py",
   "mimetype": "text/x-python",
   "name": "python",
   "nbconvert_exporter": "python",
   "pygments_lexer": "ipython3",
   "version": "3.12.2"
  }
 },
 "nbformat": 4,
 "nbformat_minor": 5
}
