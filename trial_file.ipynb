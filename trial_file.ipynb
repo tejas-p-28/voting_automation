{
 "cells": [
  {
   "cell_type": "code",
   "execution_count": 19,
   "id": "f7f81704-b1d8-43ed-894a-4ad1e68e4b88",
   "metadata": {},
   "outputs": [
    {
     "name": "stdin",
     "output_type": "stream",
     "text": [
      "enter your username :  tejas\n",
      "enter your login password :  123\n"
     ]
    },
    {
     "name": "stdout",
     "output_type": "stream",
     "text": [
      "logged in successfully....\n"
     ]
    }
   ],
   "source": [
    "\n",
    "\n",
    "\n",
    "def verify_cred():\n",
    "    user_name = input('enter your username : ')\n",
    "    pswd = int(input('enter your login password : '))\n",
    "    if user_name == 'tejas' and pswd == 123:\n",
    "        print('logged in successfully....')\n",
    "\n",
    "verify_cred()"
   ]
  },
  {
   "cell_type": "code",
   "execution_count": 21,
   "id": "02321546-2e8a-4178-8457-d41ba4130a93",
   "metadata": {},
   "outputs": [
    {
     "ename": "NameError",
     "evalue": "name 'width' is not defined",
     "output_type": "error",
     "traceback": [
      "\u001b[1;31m---------------------------------------------------------------------------\u001b[0m",
      "\u001b[1;31mNameError\u001b[0m                                 Traceback (most recent call last)",
      "Cell \u001b[1;32mIn[21], line 2\u001b[0m\n\u001b[0;32m      1\u001b[0m \u001b[38;5;28;01mfrom\u001b[39;00m \u001b[38;5;21;01mmodules\u001b[39;00m\u001b[38;5;21;01m.\u001b[39;00m\u001b[38;5;21;01mheader\u001b[39;00m \u001b[38;5;28;01mimport\u001b[39;00m head\n\u001b[1;32m----> 2\u001b[0m \u001b[43mhead\u001b[49m\u001b[38;5;241;43m.\u001b[39;49m\u001b[43mheader\u001b[49m\u001b[43m(\u001b[49m\u001b[43m)\u001b[49m\n",
      "File \u001b[1;32mE:\\Ethans Project\\voting_system\\modules\\header\\head.py:2\u001b[0m, in \u001b[0;36mheader\u001b[1;34m(mesg)\u001b[0m\n\u001b[0;32m      1\u001b[0m \u001b[38;5;28;01mdef\u001b[39;00m \u001b[38;5;21mheader\u001b[39m(mesg \u001b[38;5;241m=\u001b[39m \u001b[38;5;28;01mNone\u001b[39;00m):\n\u001b[1;32m----> 2\u001b[0m     head \u001b[38;5;241m=\u001b[39m \u001b[38;5;124m'\u001b[39m\u001b[38;5;124m-\u001b[39m\u001b[38;5;124m'\u001b[39m \u001b[38;5;241m*\u001b[39m \u001b[43mwidth\u001b[49m\n\u001b[0;32m      3\u001b[0m     \u001b[38;5;28mprint\u001b[39m(\u001b[38;5;124mf\u001b[39m\u001b[38;5;124m'\u001b[39m\u001b[38;5;132;01m{\u001b[39;00mhead\u001b[38;5;132;01m}\u001b[39;00m\u001b[38;5;124m \u001b[39m\u001b[38;5;130;01m\\n\u001b[39;00m\u001b[38;5;124m \u001b[39m\u001b[38;5;132;01m{\u001b[39;00mcommission_name\u001b[38;5;241m.\u001b[39mcenter(width)\u001b[38;5;132;01m}\u001b[39;00m\u001b[38;5;124m \u001b[39m\u001b[38;5;130;01m\\n\u001b[39;00m\u001b[38;5;124m \u001b[39m\u001b[38;5;132;01m{\u001b[39;00mconducted\u001b[38;5;241m.\u001b[39mcenter(width)\u001b[38;5;132;01m}\u001b[39;00m\u001b[38;5;124m \u001b[39m\u001b[38;5;124m'\u001b[39m)\n\u001b[0;32m      4\u001b[0m     \u001b[38;5;28;01mif\u001b[39;00m mesg:\n",
      "\u001b[1;31mNameError\u001b[0m: name 'width' is not defined"
     ]
    }
   ],
   "source": [
    "from modules.header import head\n",
    "head.header()"
   ]
  },
  {
   "cell_type": "code",
   "execution_count": 1,
   "id": "db85eead-647c-4d3a-8011-a2310761754e",
   "metadata": {},
   "outputs": [
    {
     "ename": "SyntaxError",
     "evalue": "unterminated string literal (detected at line 12) (3418091102.py, line 12)",
     "output_type": "error",
     "traceback": [
      "\u001b[1;36m  Cell \u001b[1;32mIn[1], line 12\u001b[1;36m\u001b[0m\n\u001b[1;33m    print('\u001b[0m\n\u001b[1;37m          ^\u001b[0m\n\u001b[1;31mSyntaxError\u001b[0m\u001b[1;31m:\u001b[0m unterminated string literal (detected at line 12)\n"
     ]
    }
   ],
   "source": [
    "\n",
    "def user_input(ch,max_exp_input):\n",
    "    max_retry = 3\n",
    "    for i in range(max_retry):\n",
    "        ch = int(input('enter your choice : '))\n",
    "        if ch in range(max_exp_input+1):\n",
    "            return ch\n",
    "        else:\n",
    "            print('ERROR : Invalid Input')\n",
    "    print('ERROR : Maximum Retries Exceeded')\n",
    "\n",
    "if ch == 1:\n",
    "    print('"
   ]
  },
  {
   "cell_type": "code",
   "execution_count": null,
   "id": "f1a2a70b-9bae-40e7-b723-8b0c5ad37361",
   "metadata": {},
   "outputs": [],
   "source": [
    "import sqlite3\n",
    "def sqlI():\n",
    "    print('this is sql')\n",
    "dbc_in_file = sqlite3.connect('election_db')\n",
    "db_cursor = dbc_in_file.cursor()\n",
    "db_cursor.execute('''create table if not exists admin_db\n",
    "    (id int primary key,\n",
    "    name varchar(50),\n",
    "    pswd int);''')\n",
    "\n",
    "admin_id = 3\n",
    "name = 'tejas'\n",
    "pswd = 123\n",
    "\n",
    "query = f\"\"\" insert into admin_db (id,name,pswd) values({admin_id},'{name}',{pswd})\"\"\"\n",
    "db_cursor.execute(query)\n",
    "dbc_in_file.commit()\n",
    "db_cursor.execute('select * from admin_db')\n",
    "rows = db_cursor.fetchall()\n",
    "for i in rows:\n",
    "    print(i)\n",
    "\n",
    "dbc_in_file.close()"
   ]
  },
  {
   "cell_type": "code",
   "execution_count": 6,
   "id": "5e37f4b4-138e-449b-a5bd-f82233eeed26",
   "metadata": {},
   "outputs": [
    {
     "name": "stdout",
     "output_type": "stream",
     "text": [
      "success\n"
     ]
    }
   ],
   "source": [
    "import sqlite3\n",
    "dbc_in_file = sqlite3.connect('election_db')\n",
    "db_cursor = dbc_in_file.cursor()\n",
    "if db_cursor:\n",
    "    print('success')\n",
    "else:\n",
    "    print('failed')\n",
    "dbc_in_file.close()"
   ]
  },
  {
   "cell_type": "code",
   "execution_count": 8,
   "id": "4afeb0e7-8bcc-40ca-beaf-ae58ed586edf",
   "metadata": {},
   "outputs": [],
   "source": [
    "import sqlite3\n",
    "from modules.admin import election_admin\n",
    "dbc_in_file = sqlite3.connect('election_db')\n",
    "db_cursor = dbc_in_file.cursor()\n",
    "db_cursor.execute('select * from constituent')\n",
    "result = db_cursor.fetchall()\n",
    "for i in result:\n",
    "    print(i)\n",
    "dbc_in_file.close()"
   ]
  },
  {
   "cell_type": "code",
   "execution_count": 6,
   "id": "e806866e-f8db-4dd4-a6d6-ec39d95dbc00",
   "metadata": {},
   "outputs": [
    {
     "name": "stdin",
     "output_type": "stream",
     "text": [
      "enter the date for commencement (DD-MM-YYYY) :  28-09-24\n"
     ]
    },
    {
     "name": "stdout",
     "output_type": "stream",
     "text": [
      "Enter the start time : \n"
     ]
    },
    {
     "name": "stdin",
     "output_type": "stream",
     "text": [
      "enter Hour for the commencement :  05\n",
      "enter minute for the commencement :  00\n",
      "enter your date :  30\n"
     ]
    },
    {
     "ename": "TypeError",
     "evalue": "unsupported type for timedelta days component: str",
     "output_type": "error",
     "traceback": [
      "\u001b[1;31m---------------------------------------------------------------------------\u001b[0m",
      "\u001b[1;31mTypeError\u001b[0m                                 Traceback (most recent call last)",
      "Cell \u001b[1;32mIn[6], line 11\u001b[0m\n\u001b[0;32m      8\u001b[0m end_date \u001b[38;5;241m=\u001b[39m \u001b[38;5;28minput\u001b[39m(\u001b[38;5;124m'\u001b[39m\u001b[38;5;124menter your date : \u001b[39m\u001b[38;5;124m'\u001b[39m)\n\u001b[0;32m     10\u001b[0m date1 \u001b[38;5;241m=\u001b[39m datetime\u001b[38;5;241m.\u001b[39mstrptime(date, \u001b[38;5;124m'\u001b[39m\u001b[38;5;132;01m%d\u001b[39;00m\u001b[38;5;124m-\u001b[39m\u001b[38;5;124m%\u001b[39m\u001b[38;5;124mm-\u001b[39m\u001b[38;5;124m%\u001b[39m\u001b[38;5;124my\u001b[39m\u001b[38;5;124m'\u001b[39m)\n\u001b[1;32m---> 11\u001b[0m ending \u001b[38;5;241m=\u001b[39mdate1\u001b[38;5;241m+\u001b[39m \u001b[43mtimedelta\u001b[49m\u001b[43m(\u001b[49m\u001b[43mdays\u001b[49m\u001b[43m \u001b[49m\u001b[38;5;241;43m=\u001b[39;49m\u001b[43m \u001b[49m\u001b[43mend_date\u001b[49m\u001b[43m)\u001b[49m\n\u001b[0;32m     12\u001b[0m \u001b[38;5;28;01mif\u001b[39;00m date1 \u001b[38;5;241m>\u001b[39m datetime\u001b[38;5;241m.\u001b[39mnow():\n\u001b[0;32m     13\u001b[0m     \u001b[38;5;28mprint\u001b[39m(\u001b[38;5;124mf\u001b[39m\u001b[38;5;124m'\u001b[39m\u001b[38;5;124m election to start from \u001b[39m\u001b[38;5;132;01m{\u001b[39;00mdate1\u001b[38;5;132;01m}\u001b[39;00m\u001b[38;5;124m at \u001b[39m\u001b[38;5;132;01m{\u001b[39;00mhour\u001b[38;5;132;01m}\u001b[39;00m\u001b[38;5;124m:\u001b[39m\u001b[38;5;132;01m{\u001b[39;00mminute\u001b[38;5;132;01m}\u001b[39;00m\u001b[38;5;124m am\u001b[39m\u001b[38;5;124m'\u001b[39m)\n",
      "\u001b[1;31mTypeError\u001b[0m: unsupported type for timedelta days component: str"
     ]
    }
   ],
   "source": [
    "from datetime import datetime ,timedelta\n",
    "max_retry = 3\n",
    "for i in range(max_retry):\n",
    "    date = input('enter the date for commencement (DD-MM-YYYY) : ')\n",
    "    print('Enter the start time : ')\n",
    "    hour = input('enter Hour for the commencement : ')\n",
    "    minute = input('enter minute for the commencement : ')\n",
    "    end_date = input('enter your date : ')\n",
    "    \n",
    "    date1 = datetime.strptime(date, '%d-%m-%y')\n",
    "    ending =date1+ timedelta(days = end_date)\n",
    "    if date1 > datetime.now():\n",
    "        print(f' election to start from {date1} at {hour}:{minute} am')\n",
    "        end_date = input('enter the end date for the election : ')\n",
    "        print(f'election to be end in {end_date} days')\n",
    "        break\n",
    "    else:\n",
    "        print('please enter the date in future')"
   ]
  },
  {
   "cell_type": "code",
   "execution_count": 4,
   "id": "23bc520a-fead-4002-bcc7-a825e116e027",
   "metadata": {},
   "outputs": [
    {
     "name": "stdout",
     "output_type": "stream",
     "text": [
      "2024-06-30\n"
     ]
    }
   ],
   "source": [
    "date_now = datetime.date.today()\n",
    "print(date_now)"
   ]
  },
  {
   "cell_type": "code",
   "execution_count": 11,
   "id": "1addd344-84b5-4ba2-ad96-741e7b65641e",
   "metadata": {},
   "outputs": [
    {
     "name": "stdin",
     "output_type": "stream",
     "text": [
      "enter the date for commencement (DD-MM-YYYY) :  28-08-24\n"
     ]
    },
    {
     "name": "stdout",
     "output_type": "stream",
     "text": [
      "Enter the start time : \n"
     ]
    },
    {
     "name": "stdin",
     "output_type": "stream",
     "text": [
      "enter Hour for the commencement :  6\n",
      "enter minute for the commencement :  99\n"
     ]
    },
    {
     "ename": "ValueError",
     "evalue": "time data '28-08-24' does not match format '%d-%m-%y %H-%M'",
     "output_type": "error",
     "traceback": [
      "\u001b[1;31m---------------------------------------------------------------------------\u001b[0m",
      "\u001b[1;31mValueError\u001b[0m                                Traceback (most recent call last)",
      "Cell \u001b[1;32mIn[11], line 5\u001b[0m\n\u001b[0;32m      3\u001b[0m hour \u001b[38;5;241m=\u001b[39m \u001b[38;5;28minput\u001b[39m(\u001b[38;5;124m'\u001b[39m\u001b[38;5;124menter Hour for the commencement : \u001b[39m\u001b[38;5;124m'\u001b[39m)\n\u001b[0;32m      4\u001b[0m minute \u001b[38;5;241m=\u001b[39m \u001b[38;5;28minput\u001b[39m(\u001b[38;5;124m'\u001b[39m\u001b[38;5;124menter minute for the commencement : \u001b[39m\u001b[38;5;124m'\u001b[39m)\n\u001b[1;32m----> 5\u001b[0m date1 \u001b[38;5;241m=\u001b[39m \u001b[43mdatetime\u001b[49m\u001b[38;5;241;43m.\u001b[39;49m\u001b[43mstrptime\u001b[49m\u001b[43m(\u001b[49m\u001b[43mdate\u001b[49m\u001b[43m,\u001b[49m\u001b[43m \u001b[49m\u001b[38;5;124;43m'\u001b[39;49m\u001b[38;5;132;43;01m%d\u001b[39;49;00m\u001b[38;5;124;43m-\u001b[39;49m\u001b[38;5;124;43m%\u001b[39;49m\u001b[38;5;124;43mm-\u001b[39;49m\u001b[38;5;124;43m%\u001b[39;49m\u001b[38;5;124;43my \u001b[39;49m\u001b[38;5;124;43m%\u001b[39;49m\u001b[38;5;124;43mH-\u001b[39;49m\u001b[38;5;124;43m%\u001b[39;49m\u001b[38;5;124;43mM\u001b[39;49m\u001b[38;5;124;43m'\u001b[39;49m\u001b[43m)\u001b[49m\n\u001b[0;32m      6\u001b[0m \u001b[38;5;28mprint\u001b[39m(date1)\n",
      "File \u001b[1;32m~\\AppData\\Local\\Programs\\Python\\Python312\\Lib\\_strptime.py:554\u001b[0m, in \u001b[0;36m_strptime_datetime\u001b[1;34m(cls, data_string, format)\u001b[0m\n\u001b[0;32m    551\u001b[0m \u001b[38;5;28;01mdef\u001b[39;00m \u001b[38;5;21m_strptime_datetime\u001b[39m(\u001b[38;5;28mcls\u001b[39m, data_string, \u001b[38;5;28mformat\u001b[39m\u001b[38;5;241m=\u001b[39m\u001b[38;5;124m\"\u001b[39m\u001b[38;5;132;01m%a\u001b[39;00m\u001b[38;5;124m \u001b[39m\u001b[38;5;124m%\u001b[39m\u001b[38;5;124mb \u001b[39m\u001b[38;5;132;01m%d\u001b[39;00m\u001b[38;5;124m \u001b[39m\u001b[38;5;124m%\u001b[39m\u001b[38;5;124mH:\u001b[39m\u001b[38;5;124m%\u001b[39m\u001b[38;5;124mM:\u001b[39m\u001b[38;5;124m%\u001b[39m\u001b[38;5;124mS \u001b[39m\u001b[38;5;124m%\u001b[39m\u001b[38;5;124mY\u001b[39m\u001b[38;5;124m\"\u001b[39m):\n\u001b[0;32m    552\u001b[0m \u001b[38;5;250m    \u001b[39m\u001b[38;5;124;03m\"\"\"Return a class cls instance based on the input string and the\u001b[39;00m\n\u001b[0;32m    553\u001b[0m \u001b[38;5;124;03m    format string.\"\"\"\u001b[39;00m\n\u001b[1;32m--> 554\u001b[0m     tt, fraction, gmtoff_fraction \u001b[38;5;241m=\u001b[39m \u001b[43m_strptime\u001b[49m\u001b[43m(\u001b[49m\u001b[43mdata_string\u001b[49m\u001b[43m,\u001b[49m\u001b[43m \u001b[49m\u001b[38;5;28;43mformat\u001b[39;49m\u001b[43m)\u001b[49m\n\u001b[0;32m    555\u001b[0m     tzname, gmtoff \u001b[38;5;241m=\u001b[39m tt[\u001b[38;5;241m-\u001b[39m\u001b[38;5;241m2\u001b[39m:]\n\u001b[0;32m    556\u001b[0m     args \u001b[38;5;241m=\u001b[39m tt[:\u001b[38;5;241m6\u001b[39m] \u001b[38;5;241m+\u001b[39m (fraction,)\n",
      "File \u001b[1;32m~\\AppData\\Local\\Programs\\Python\\Python312\\Lib\\_strptime.py:333\u001b[0m, in \u001b[0;36m_strptime\u001b[1;34m(data_string, format)\u001b[0m\n\u001b[0;32m    331\u001b[0m found \u001b[38;5;241m=\u001b[39m format_regex\u001b[38;5;241m.\u001b[39mmatch(data_string)\n\u001b[0;32m    332\u001b[0m \u001b[38;5;28;01mif\u001b[39;00m \u001b[38;5;129;01mnot\u001b[39;00m found:\n\u001b[1;32m--> 333\u001b[0m     \u001b[38;5;28;01mraise\u001b[39;00m \u001b[38;5;167;01mValueError\u001b[39;00m(\u001b[38;5;124m\"\u001b[39m\u001b[38;5;124mtime data \u001b[39m\u001b[38;5;132;01m%r\u001b[39;00m\u001b[38;5;124m does not match format \u001b[39m\u001b[38;5;132;01m%r\u001b[39;00m\u001b[38;5;124m\"\u001b[39m \u001b[38;5;241m%\u001b[39m\n\u001b[0;32m    334\u001b[0m                      (data_string, \u001b[38;5;28mformat\u001b[39m))\n\u001b[0;32m    335\u001b[0m \u001b[38;5;28;01mif\u001b[39;00m \u001b[38;5;28mlen\u001b[39m(data_string) \u001b[38;5;241m!=\u001b[39m found\u001b[38;5;241m.\u001b[39mend():\n\u001b[0;32m    336\u001b[0m     \u001b[38;5;28;01mraise\u001b[39;00m \u001b[38;5;167;01mValueError\u001b[39;00m(\u001b[38;5;124m\"\u001b[39m\u001b[38;5;124munconverted data remains: \u001b[39m\u001b[38;5;132;01m%s\u001b[39;00m\u001b[38;5;124m\"\u001b[39m \u001b[38;5;241m%\u001b[39m\n\u001b[0;32m    337\u001b[0m                       data_string[found\u001b[38;5;241m.\u001b[39mend():])\n",
      "\u001b[1;31mValueError\u001b[0m: time data '28-08-24' does not match format '%d-%m-%y %H-%M'"
     ]
    }
   ],
   "source": [
    "date = input('enter the date for commencement (DD-MM-YYYY) : ')\n",
    "print('Enter the start time : ')\n",
    "hour = input('enter Hour for the commencement : ')\n",
    "minute = input('enter minute for the commencement : ')\n",
    "date1 = datetime.strptime(date, '%d-%m-%y %H-%M')\n",
    "print(date1)"
   ]
  },
  {
   "cell_type": "code",
   "execution_count": null,
   "id": "36a2ada4-d6a8-46f9-b3e4-768d2e48aff4",
   "metadata": {},
   "outputs": [],
   "source": []
  }
 ],
 "metadata": {
  "kernelspec": {
   "display_name": "Python 3 (ipykernel)",
   "language": "python",
   "name": "python3"
  },
  "language_info": {
   "codemirror_mode": {
    "name": "ipython",
    "version": 3
   },
   "file_extension": ".py",
   "mimetype": "text/x-python",
   "name": "python",
   "nbconvert_exporter": "python",
   "pygments_lexer": "ipython3",
   "version": "3.12.2"
  }
 },
 "nbformat": 4,
 "nbformat_minor": 5
}
