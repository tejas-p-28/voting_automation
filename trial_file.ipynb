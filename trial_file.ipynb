{
 "cells": [
  {
   "cell_type": "code",
   "execution_count": 19,
   "id": "f7f81704-b1d8-43ed-894a-4ad1e68e4b88",
   "metadata": {},
   "outputs": [
    {
     "name": "stdin",
     "output_type": "stream",
     "text": [
      "enter your username :  tejas\n",
      "enter your login password :  123\n"
     ]
    },
    {
     "name": "stdout",
     "output_type": "stream",
     "text": [
      "logged in successfully....\n"
     ]
    }
   ],
   "source": [
    "\n",
    "\n",
    "\n",
    "def verify_cred():\n",
    "    user_name = input('enter your username : ')\n",
    "    pswd = int(input('enter your login password : '))\n",
    "    if user_name == 'tejas' and pswd == 123:\n",
    "        print('logged in successfully....')\n",
    "\n",
    "verify_cred()"
   ]
  },
  {
   "cell_type": "code",
   "execution_count": 21,
   "id": "02321546-2e8a-4178-8457-d41ba4130a93",
   "metadata": {},
   "outputs": [
    {
     "ename": "NameError",
     "evalue": "name 'width' is not defined",
     "output_type": "error",
     "traceback": [
      "\u001b[1;31m---------------------------------------------------------------------------\u001b[0m",
      "\u001b[1;31mNameError\u001b[0m                                 Traceback (most recent call last)",
      "Cell \u001b[1;32mIn[21], line 2\u001b[0m\n\u001b[0;32m      1\u001b[0m \u001b[38;5;28;01mfrom\u001b[39;00m \u001b[38;5;21;01mmodules\u001b[39;00m\u001b[38;5;21;01m.\u001b[39;00m\u001b[38;5;21;01mheader\u001b[39;00m \u001b[38;5;28;01mimport\u001b[39;00m head\n\u001b[1;32m----> 2\u001b[0m \u001b[43mhead\u001b[49m\u001b[38;5;241;43m.\u001b[39;49m\u001b[43mheader\u001b[49m\u001b[43m(\u001b[49m\u001b[43m)\u001b[49m\n",
      "File \u001b[1;32mE:\\Ethans Project\\voting_system\\modules\\header\\head.py:2\u001b[0m, in \u001b[0;36mheader\u001b[1;34m(mesg)\u001b[0m\n\u001b[0;32m      1\u001b[0m \u001b[38;5;28;01mdef\u001b[39;00m \u001b[38;5;21mheader\u001b[39m(mesg \u001b[38;5;241m=\u001b[39m \u001b[38;5;28;01mNone\u001b[39;00m):\n\u001b[1;32m----> 2\u001b[0m     head \u001b[38;5;241m=\u001b[39m \u001b[38;5;124m'\u001b[39m\u001b[38;5;124m-\u001b[39m\u001b[38;5;124m'\u001b[39m \u001b[38;5;241m*\u001b[39m \u001b[43mwidth\u001b[49m\n\u001b[0;32m      3\u001b[0m     \u001b[38;5;28mprint\u001b[39m(\u001b[38;5;124mf\u001b[39m\u001b[38;5;124m'\u001b[39m\u001b[38;5;132;01m{\u001b[39;00mhead\u001b[38;5;132;01m}\u001b[39;00m\u001b[38;5;124m \u001b[39m\u001b[38;5;130;01m\\n\u001b[39;00m\u001b[38;5;124m \u001b[39m\u001b[38;5;132;01m{\u001b[39;00mcommission_name\u001b[38;5;241m.\u001b[39mcenter(width)\u001b[38;5;132;01m}\u001b[39;00m\u001b[38;5;124m \u001b[39m\u001b[38;5;130;01m\\n\u001b[39;00m\u001b[38;5;124m \u001b[39m\u001b[38;5;132;01m{\u001b[39;00mconducted\u001b[38;5;241m.\u001b[39mcenter(width)\u001b[38;5;132;01m}\u001b[39;00m\u001b[38;5;124m \u001b[39m\u001b[38;5;124m'\u001b[39m)\n\u001b[0;32m      4\u001b[0m     \u001b[38;5;28;01mif\u001b[39;00m mesg:\n",
      "\u001b[1;31mNameError\u001b[0m: name 'width' is not defined"
     ]
    }
   ],
   "source": [
    "from modules.header import head\n",
    "head.header()"
   ]
  },
  {
   "cell_type": "code",
   "execution_count": 1,
   "id": "db85eead-647c-4d3a-8011-a2310761754e",
   "metadata": {},
   "outputs": [
    {
     "ename": "SyntaxError",
     "evalue": "unterminated string literal (detected at line 12) (3418091102.py, line 12)",
     "output_type": "error",
     "traceback": [
      "\u001b[1;36m  Cell \u001b[1;32mIn[1], line 12\u001b[1;36m\u001b[0m\n\u001b[1;33m    print('\u001b[0m\n\u001b[1;37m          ^\u001b[0m\n\u001b[1;31mSyntaxError\u001b[0m\u001b[1;31m:\u001b[0m unterminated string literal (detected at line 12)\n"
     ]
    }
   ],
   "source": [
    "\n",
    "def user_input(ch,max_exp_input):\n",
    "    max_retry = 3\n",
    "    for i in range(max_retry):\n",
    "        ch = int(input('enter your choice : '))\n",
    "        if ch in range(max_exp_input+1):\n",
    "            return ch\n",
    "        else:\n",
    "            print('ERROR : Invalid Input')\n",
    "    print('ERROR : Maximum Retries Exceeded')\n",
    "\n",
    "if ch == 1:\n",
    "    print('"
   ]
  },
  {
   "cell_type": "code",
   "execution_count": null,
   "id": "f1a2a70b-9bae-40e7-b723-8b0c5ad37361",
   "metadata": {},
   "outputs": [],
   "source": [
    "import sqlite3\n",
    "def sqlI():\n",
    "    print('this is sql')\n",
    "dbc_in_file = sqlite3.connect('election_db')\n",
    "db_cursor = dbc_in_file.cursor()\n",
    "db_cursor.execute('''create table if not exists admin_db\n",
    "    (id int primary key,\n",
    "    name varchar(50),\n",
    "    pswd int);''')\n",
    "\n",
    "admin_id = 3\n",
    "name = 'tejas'\n",
    "pswd = 123\n",
    "\n",
    "query = f\"\"\" insert into admin_db (id,name,pswd) values({admin_id},'{name}',{pswd})\"\"\"\n",
    "db_cursor.execute(query)\n",
    "dbc_in_file.commit()\n",
    "db_cursor.execute('select * from admin_db')\n",
    "rows = db_cursor.fetchall()\n",
    "for i in rows:\n",
    "    print(i)\n",
    "\n",
    "dbc_in_file.close()"
   ]
  },
  {
   "cell_type": "code",
   "execution_count": 6,
   "id": "5e37f4b4-138e-449b-a5bd-f82233eeed26",
   "metadata": {},
   "outputs": [
    {
     "name": "stdout",
     "output_type": "stream",
     "text": [
      "success\n"
     ]
    }
   ],
   "source": [
    "import sqlite3\n",
    "dbc_in_file = sqlite3.connect('election_db')\n",
    "db_cursor = dbc_in_file.cursor()\n",
    "if db_cursor:\n",
    "    print('success')\n",
    "else:\n",
    "    print('failed')\n",
    "dbc_in_file.close()"
   ]
  },
  {
   "cell_type": "code",
   "execution_count": 8,
   "id": "4afeb0e7-8bcc-40ca-beaf-ae58ed586edf",
   "metadata": {},
   "outputs": [],
   "source": [
    "import sqlite3\n",
    "from modules.admin import election_admin\n",
    "dbc_in_file = sqlite3.connect('election_db')\n",
    "db_cursor = dbc_in_file.cursor()\n",
    "db_cursor.execute('select * from constituent')\n",
    "result = db_cursor.fetchall()\n",
    "for i in result:\n",
    "    print(i)\n",
    "dbc_in_file.close()"
   ]
  },
  {
   "cell_type": "code",
   "execution_count": null,
   "id": "e806866e-f8db-4dd4-a6d6-ec39d95dbc00",
   "metadata": {},
   "outputs": [],
   "source": []
  }
 ],
 "metadata": {
  "kernelspec": {
   "display_name": "Python 3 (ipykernel)",
   "language": "python",
   "name": "python3"
  },
  "language_info": {
   "codemirror_mode": {
    "name": "ipython",
    "version": 3
   },
   "file_extension": ".py",
   "mimetype": "text/x-python",
   "name": "python",
   "nbconvert_exporter": "python",
   "pygments_lexer": "ipython3",
   "version": "3.12.2"
  }
 },
 "nbformat": 4,
 "nbformat_minor": 5
}
